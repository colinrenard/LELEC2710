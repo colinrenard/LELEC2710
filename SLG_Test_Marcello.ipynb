{
 "cells": [
  {
   "cell_type": "code",
   "execution_count": 1,
   "metadata": {},
   "outputs": [
    {
     "name": "stderr",
     "output_type": "stream",
     "text": [
      "c:\\Users\\manue\\anaconda3\\lib\\site-packages\\kwant\\solvers\\default.py:16: RuntimeWarning: MUMPS is not available, SciPy built-in solver will be used as a fallback. Performance can be very poor in this case.\n",
      "  warnings.warn(\"MUMPS is not available, \"\n"
     ]
    }
   ],
   "source": [
    "import kwant\n",
    "import numpy as np \n",
    "import matplotlib.pyplot as plt"
   ]
  },
  {
   "cell_type": "code",
   "execution_count": 2,
   "metadata": {},
   "outputs": [],
   "source": [
    "# Fundamental constants\n",
    "\n",
    "pi = np.pi\n",
    "h = 6.626069e-34    # Planck constant (Js)\n",
    "e = 1.602e-19      # electron charge (C)\n",
    "c = 299792458       # Light celerity (m/s)\n",
    "kB = 1.3806503e-23  # Boltzmann constant (kg m2/Ks2)\n",
    "m_e = 9.1e-31       # electron mass (kg)\n",
    "vf = 1e6            # Fermi velocity (m/s)\n",
    "hbar = h/(2*pi)     # Reduced planck constant\n",
    "\n",
    "epsilon_0 = 8.85e-12  # Vacuum permittivity (F/m)\n",
    "epsilon_hBN = 3\n",
    "epsilon_Ox = 3.8"
   ]
  },
  {
   "cell_type": "code",
   "execution_count": 32,
   "metadata": {},
   "outputs": [],
   "source": [
    "# Definition of the potential\n",
    "db = 20e-9 # bottom hBN layer thickness (m)\n",
    "dOx = 285e-9 # substrate thickness (m)\n",
    "\n",
    "Cbg = epsilon_0 / (db/epsilon_hBN + dOx/epsilon_Ox)\n",
    "\n",
    "# We do not have a precise function for the capacitance linked with the CNT, so we use the approximation they provide\n",
    "r_cnt = 1e-9 # CNT radius (m)\n",
    "dt = 4e-9 # top hBN thickness (m)\n",
    "ht = dt + r_cnt\n",
    "at = np.sqrt(ht**2 - r_cnt**2)\n",
    "kappa = (ht+at)**2/r_cnt**2\n",
    "\n",
    "# Here, epsilon_r is set to have a curve resembling the simulation in the article (Ccnt/e evaluated at 0 is around 2.5e12 cm^-2 V^-1)\n",
    "def computeCcnt(y, epsilon_r=2.5):\n",
    "    return epsilon_0*epsilon_r*4*at/((y**2+at**2)*np.log(kappa)) # Try log10 if it does not work\n"
   ]
  },
  {
   "cell_type": "code",
   "execution_count": 40,
   "metadata": {},
   "outputs": [],
   "source": [
    "V_cnt = -10.0  # CNT gate voltage (V)\n",
    "V_bg = -13.6  # Backgate voltage (V)\n",
    "\n",
    "def potential(site, Vcnt):\n",
    "     (x, y) = site.pos\n",
    "     Ccnt = computeCcnt(y*a*1e-9)\n",
    "     n = (Cbg*V_bg + Ccnt*Vcnt)/e\n",
    "     U = -np.sign(n)*hbar*vf*np.sqrt(pi*np.abs(n))\n",
    "\n",
    "     # print(\"y: {}, ncnt: {}, nbg: {}\".format(y, Ccnt*Vcnt, Cbg*Vbg))\n",
    "    \n",
    "     # print(U/e)\n",
    "     return U/e # Divide by e to obtain electronVolts"
   ]
  },
  {
   "cell_type": "code",
   "execution_count": 41,
   "metadata": {},
   "outputs": [],
   "source": [
    "# System maker\n",
    "s = 20\n",
    "a = 1/(4*np.sqrt(3)) * s\n",
    "t = 3 / s\n",
    "\n",
    "W = 360\n",
    "L = 360\n",
    "W_lead = 34\n",
    "L_lead = L\n",
    "\n",
    "W_well = 10\n",
    "pot = 5\n",
    "\n",
    "#def potential(site):\n",
    "#    x, y = site.pos\n",
    "#    if -W_lead / 2 < y < W_lead / 2:\n",
    "#        return V_cnt + V_bg\n",
    "#    else:\n",
    "#        return V_bg\n",
    "\n",
    "def cnt_region(site):\n",
    "    x, y = site.pos\n",
    "    return -W_lead//2 < y < W_lead//2\n",
    "\n",
    "def cnt_potential(site, V_cnt, sigma=10):\n",
    "    x, y = site.pos\n",
    "    if -W_lead//2 < y < W_lead//2:\n",
    "        #r = np.sqrt(x**2 + y**2)  # radial distance from CNT center\n",
    "        #return V_cnt * np.exp(-r**2 / (2 * sigma**2))\n",
    "        return V_cnt\n",
    "    return 0\n",
    "\n",
    "def onsite_potential(site, V_cnt, V_bg):\n",
    "    return cnt_potential(site, V_cnt) + V_bg  # Combine potentials\n",
    "\n",
    "def rect(pos):\n",
    "    x, y = pos\n",
    "    if -L/2 < x < L/2 and -W/2 < y < W/2:\n",
    "        return True\n",
    "    else:\n",
    "        return False \n",
    "\n",
    "def lead_horizontal(pos, L=L_lead):\n",
    "    x, y = pos\n",
    "    return -L/2 < x < L/2\n",
    "\n",
    "def lead_vertical(pos, W=W_lead):\n",
    "    x, y = pos\n",
    "    return -W/2 < y < W/2\n",
    "\n",
    "def system_maker(V_cnt):\n",
    "    lattice = kwant.lattice.general([(np.sqrt(3)*a, 0), (0, 3*a)], [(a*np.sqrt(3)/2, 0), (0, a/2), (0, 3*a/2)\\\n",
    "                                                                     , (a*np.sqrt(3)/2, 2*a)], norbs = 1)\n",
    "    A, B, C, D = lattice.sublattices\n",
    "    sys = kwant.Builder()\n",
    "    hoppings = (((0, 0), B, A), ((0, 0), C, B), ((0, 0), D, C), ((-1, 0), A, B), ((-1, 0), D, C),((0, 1), A, D))\n",
    "    sys[lattice.shape(rect, (0,0))] = potential(V_cnt)\n",
    "    sys[[kwant.builder.HoppingKind(*hopping) for hopping in hoppings]] = -t\n",
    "    sys.eradicate_dangling()\n",
    "    \n",
    "    # Create leads\n",
    "    sym0 = kwant.TranslationalSymmetry(lattice.vec((-1, 0)))\n",
    "    lead0 = kwant.Builder(sym0)\n",
    "    lead0[lattice.shape(lead_vertical, (0, 0))] = 0\n",
    "    lead0[lattice.neighbors()]= -t\n",
    "    lead0.eradicate_dangling()\n",
    "    sys.attach_lead(lead0)\n",
    "    \n",
    "    sym1 = kwant.TranslationalSymmetry(lattice.vec((1, 0)))\n",
    "    lead1 = kwant.Builder(sym1)\n",
    "    lead1[lattice.shape(lead_vertical, (0, 0))] = 0\n",
    "    lead1[lattice.neighbors()] = -t\n",
    "    lead1.eradicate_dangling()\n",
    "    sys.attach_lead(lead1)\n",
    "\n",
    "    sym2 = kwant.TranslationalSymmetry(lattice.vec((0, 1)))\n",
    "    lead2 = kwant.Builder(sym2)\n",
    "    lead2[lattice.shape(lead_horizontal, (0, 0))] = 0\n",
    "    lead2[lattice.neighbors()] = -t\n",
    "    lead2.eradicate_dangling()\n",
    "    sys.attach_lead(lead2)\n",
    "\n",
    "    sym3 = kwant.TranslationalSymmetry(lattice.vec((0, -1)))\n",
    "    lead3 = kwant.Builder(sym3)\n",
    "    lead3[lattice.shape(lead_horizontal, (0, 0))] = 0\n",
    "    lead3[lattice.neighbors()] = -t\n",
    "    lead3.eradicate_dangling()\n",
    "    sys.attach_lead(lead3)\n",
    "    \n",
    "    return sys\n"
   ]
  },
  {
   "cell_type": "code",
   "execution_count": 43,
   "metadata": {},
   "outputs": [
    {
     "ename": "TypeError",
     "evalue": "potential() missing 1 required positional argument: 'Vcnt'",
     "output_type": "error",
     "traceback": [
      "\u001b[1;31m---------------------------------------------------------------------------\u001b[0m",
      "\u001b[1;31mTypeError\u001b[0m                                 Traceback (most recent call last)",
      "Cell \u001b[1;32mIn[43], line 1\u001b[0m\n\u001b[1;32m----> 1\u001b[0m syst \u001b[38;5;241m=\u001b[39m \u001b[43msystem_maker\u001b[49m\u001b[43m(\u001b[49m\u001b[38;5;241;43m3\u001b[39;49m\u001b[43m)\u001b[49m\n\u001b[0;32m      2\u001b[0m kwant\u001b[38;5;241m.\u001b[39mplotter\u001b[38;5;241m.\u001b[39mmap(syst, \u001b[38;5;28;01mlambda\u001b[39;00m ss: potential(ss))\n\u001b[0;32m      3\u001b[0m kwant\u001b[38;5;241m.\u001b[39mplot(syst)\n",
      "Cell \u001b[1;32mIn[41], line 57\u001b[0m, in \u001b[0;36msystem_maker\u001b[1;34m(V_cnt)\u001b[0m\n\u001b[0;32m     55\u001b[0m sys \u001b[38;5;241m=\u001b[39m kwant\u001b[38;5;241m.\u001b[39mBuilder()\n\u001b[0;32m     56\u001b[0m hoppings \u001b[38;5;241m=\u001b[39m (((\u001b[38;5;241m0\u001b[39m, \u001b[38;5;241m0\u001b[39m), B, A), ((\u001b[38;5;241m0\u001b[39m, \u001b[38;5;241m0\u001b[39m), C, B), ((\u001b[38;5;241m0\u001b[39m, \u001b[38;5;241m0\u001b[39m), D, C), ((\u001b[38;5;241m-\u001b[39m\u001b[38;5;241m1\u001b[39m, \u001b[38;5;241m0\u001b[39m), A, B), ((\u001b[38;5;241m-\u001b[39m\u001b[38;5;241m1\u001b[39m, \u001b[38;5;241m0\u001b[39m), D, C),((\u001b[38;5;241m0\u001b[39m, \u001b[38;5;241m1\u001b[39m), A, D))\n\u001b[1;32m---> 57\u001b[0m sys[lattice\u001b[38;5;241m.\u001b[39mshape(rect, (\u001b[38;5;241m0\u001b[39m,\u001b[38;5;241m0\u001b[39m))] \u001b[38;5;241m=\u001b[39m \u001b[43mpotential\u001b[49m\u001b[43m(\u001b[49m\u001b[43mV_cnt\u001b[49m\u001b[43m)\u001b[49m\n\u001b[0;32m     58\u001b[0m sys[[kwant\u001b[38;5;241m.\u001b[39mbuilder\u001b[38;5;241m.\u001b[39mHoppingKind(\u001b[38;5;241m*\u001b[39mhopping) \u001b[38;5;28;01mfor\u001b[39;00m hopping \u001b[38;5;129;01min\u001b[39;00m hoppings]] \u001b[38;5;241m=\u001b[39m \u001b[38;5;241m-\u001b[39mt\n\u001b[0;32m     59\u001b[0m sys\u001b[38;5;241m.\u001b[39meradicate_dangling()\n",
      "\u001b[1;31mTypeError\u001b[0m: potential() missing 1 required positional argument: 'Vcnt'"
     ]
    }
   ],
   "source": [
    "syst = system_maker(3)\n",
    "kwant.plotter.map(syst, lambda ss: potential(ss))\n",
    "kwant.plot(syst)\n",
    "fsyst = syst.finalized()"
   ]
  },
  {
   "cell_type": "code",
   "execution_count": 127,
   "metadata": {},
   "outputs": [
    {
     "data": {
      "image/png": "[encoded data removed]",
      "text/plain": [
       "<Figure size 640x480 with 1 Axes>"
      ]
     },
     "metadata": {},
     "output_type": "display_data"
    }
   ],
   "source": [
    "# Function to compute conductance\n",
    "def compute_conductance(system, energy):\n",
    "    smatrix = kwant.smatrix(system, energy)\n",
    "    return smatrix.transmission(1, 0)\n",
    "\n",
    "# Main simulation\n",
    "V_cnt_range = np.linspace(0, 10, 10)\n",
    "conductances = []\n",
    "#energies = np.linspace(-0.1, 0.1, 10)\n",
    "energies = 0.8\n",
    "for V_cnt in V_cnt_range:\n",
    "    sys = system_maker(V_cnt)\n",
    "    fsys = sys.finalized()\n",
    "    conductance = compute_conductance(fsys, energies)\n",
    "    conductances.append(conductance)\n",
    "\n",
    "plt.plot(V_cnt_range, conductances)\n",
    "plt.grid()"
   ]
  }
 ],
 "metadata": {
  "kernelspec": {
   "display_name": "base",
   "language": "python",
   "name": "python3"
  },
  "language_info": {
   "codemirror_mode": {
    "name": "ipython",
    "version": 3
   },
   "file_extension": ".py",
   "mimetype": "text/x-python",
   "name": "python",
   "nbconvert_exporter": "python",
   "pygments_lexer": "ipython3",
   "version": "3.8.5"
  }
 },
 "nbformat": 4,
 "nbformat_minor": 2
}
